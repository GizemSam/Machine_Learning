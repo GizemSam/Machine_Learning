{
 "cells": [
  {
   "attachments": {},
   "cell_type": "markdown",
   "metadata": {},
   "source": [
    "# Regresyon Modelleri için Hata Değerlendirme\n",
    "---"
   ]
  },
  {
   "attachments": {},
   "cell_type": "markdown",
   "metadata": {},
   "source": [
    "## Veri Seti Hikayesi\n",
    "- Çalışanların deneyim yılı ve maaş bilgileri tablo olarak verilmiştir.\n",
    "---\n",
    "- **Ek Bilgi:** Regresyon modelleri, bir bağımsız değişken veya değişkenlerin, bir veya daha fazla bağımlı değişken üzerindeki etkisini analiz etmek için kullanılan istatistiksel yöntemlerdir. Bu modeller, bağımlı değişkenin sürekli bir değer alması durumunda kullanılır.(2,343,54,6,7658,88,8,....)\n",
    "- Regresyon modelleri genellikle iki kategoriye ayrılır: lineer regresyon ve doğrusal olmayan regresyon. Lineer regresyon, bağımlı değişken ve bağımsız değişkenler arasındaki ilişkiyi doğrusal bir şekilde modelleyen regresyon türüdür. Doğrusal olmayan regresyon ise bağımlı değişken ve bağımsız değişkenler arasındaki ilişkiyi doğrusal olmayan bir şekilde modelleyen regresyon türüdür.\n",
    "\n",
    "- **NOT:** Örneğin bizim bağımlı değişkenimiz numarik değişkenler ile gösterildiğini varsayalım : (1,0,1,0,0,1,0,1,0... gibi) bu durumda aslında buradaki değişkenimiz katogerik değişkendir ve biz Regresyon değil de Sınıflandırma Problemi ile ilgileniyor olurdur.\n",
    "\n",
    "---\n"
   ]
  },
  {
   "attachments": {},
   "cell_type": "markdown",
   "metadata": {},
   "source": [
    "### 1-Verilen bias ve weight’e göre doğrusal regresyon model denklemini oluşturunuz. Bias=275,Weight=90(y’=b+wx)\n",
    "---"
   ]
  },
  {
   "cell_type": "code",
   "execution_count": 2,
   "metadata": {},
   "outputs": [],
   "source": [
    "import numpy as np\n",
    "import pandas as pd\n",
    "import matplotlib.pyplot as plt\n",
    "import seaborn as sns\n",
    "pd.set_option('display.float_format', lambda x: '%.2f' % x)\n",
    "from sklearn.linear_model import LinearRegression\n",
    "from sklearn.metrics import mean_squared_error, mean_absolute_error\n",
    "\n"
   ]
  },
  {
   "cell_type": "code",
   "execution_count": 3,
   "metadata": {},
   "outputs": [
    {
     "data": {
      "text/html": [
       "<div>\n",
       "<style scoped>\n",
       "    .dataframe tbody tr th:only-of-type {\n",
       "        vertical-align: middle;\n",
       "    }\n",
       "\n",
       "    .dataframe tbody tr th {\n",
       "        vertical-align: top;\n",
       "    }\n",
       "\n",
       "    .dataframe thead th {\n",
       "        text-align: right;\n",
       "    }\n",
       "</style>\n",
       "<table border=\"1\" class=\"dataframe\">\n",
       "  <thead>\n",
       "    <tr style=\"text-align: right;\">\n",
       "      <th></th>\n",
       "      <th>deneyim_yili</th>\n",
       "      <th>maas</th>\n",
       "    </tr>\n",
       "  </thead>\n",
       "  <tbody>\n",
       "    <tr>\n",
       "      <th>0</th>\n",
       "      <td>5</td>\n",
       "      <td>600</td>\n",
       "    </tr>\n",
       "    <tr>\n",
       "      <th>1</th>\n",
       "      <td>7</td>\n",
       "      <td>900</td>\n",
       "    </tr>\n",
       "    <tr>\n",
       "      <th>2</th>\n",
       "      <td>3</td>\n",
       "      <td>550</td>\n",
       "    </tr>\n",
       "    <tr>\n",
       "      <th>3</th>\n",
       "      <td>3</td>\n",
       "      <td>500</td>\n",
       "    </tr>\n",
       "    <tr>\n",
       "      <th>4</th>\n",
       "      <td>2</td>\n",
       "      <td>400</td>\n",
       "    </tr>\n",
       "    <tr>\n",
       "      <th>5</th>\n",
       "      <td>7</td>\n",
       "      <td>950</td>\n",
       "    </tr>\n",
       "    <tr>\n",
       "      <th>6</th>\n",
       "      <td>3</td>\n",
       "      <td>540</td>\n",
       "    </tr>\n",
       "    <tr>\n",
       "      <th>7</th>\n",
       "      <td>10</td>\n",
       "      <td>1200</td>\n",
       "    </tr>\n",
       "    <tr>\n",
       "      <th>8</th>\n",
       "      <td>6</td>\n",
       "      <td>900</td>\n",
       "    </tr>\n",
       "    <tr>\n",
       "      <th>9</th>\n",
       "      <td>4</td>\n",
       "      <td>550</td>\n",
       "    </tr>\n",
       "    <tr>\n",
       "      <th>10</th>\n",
       "      <td>8</td>\n",
       "      <td>1100</td>\n",
       "    </tr>\n",
       "    <tr>\n",
       "      <th>11</th>\n",
       "      <td>1</td>\n",
       "      <td>460</td>\n",
       "    </tr>\n",
       "    <tr>\n",
       "      <th>12</th>\n",
       "      <td>1</td>\n",
       "      <td>400</td>\n",
       "    </tr>\n",
       "    <tr>\n",
       "      <th>13</th>\n",
       "      <td>9</td>\n",
       "      <td>1000</td>\n",
       "    </tr>\n",
       "    <tr>\n",
       "      <th>14</th>\n",
       "      <td>1</td>\n",
       "      <td>380</td>\n",
       "    </tr>\n",
       "  </tbody>\n",
       "</table>\n",
       "</div>"
      ],
      "text/plain": [
       "    deneyim_yili  maas\n",
       "0              5   600\n",
       "1              7   900\n",
       "2              3   550\n",
       "3              3   500\n",
       "4              2   400\n",
       "5              7   950\n",
       "6              3   540\n",
       "7             10  1200\n",
       "8              6   900\n",
       "9              4   550\n",
       "10             8  1100\n",
       "11             1   460\n",
       "12             1   400\n",
       "13             9  1000\n",
       "14             1   380"
      ]
     },
     "execution_count": 3,
     "metadata": {},
     "output_type": "execute_result"
    }
   ],
   "source": [
    "df = pd.read_excel(\"datasets\\HR.xlsx\")\n",
    "df\n",
    "#Ben excel'e kaydetmiştim.Veriler Buradan çektim.\n"
   ]
  },
  {
   "attachments": {},
   "cell_type": "markdown",
   "metadata": {},
   "source": [
    "- 2.Yol\n",
    "```\n",
    "data = {\n",
    "    'deneyim_yili': [5, 7, 3, 3, 2, 7, 3, 10, 6, 4, 8, 1, 1, 9, 1],\n",
    "    'maas': [600, 900, 550, 500, 400, 950, 540, 1200, 900, 550, 1100, 460, 400, 1000, 380]\n",
    "}\n",
    "\n",
    "df = pd.DataFrame(data)\n",
    "\n",
    "```"
   ]
  },
  {
   "cell_type": "code",
   "execution_count": 4,
   "metadata": {},
   "outputs": [
    {
     "data": {
      "text/plain": [
       "(15, 2)"
      ]
     },
     "execution_count": 4,
     "metadata": {},
     "output_type": "execute_result"
    }
   ],
   "source": [
    "df.shape # 15 gözlem 2 değişken var"
   ]
  },
  {
   "cell_type": "code",
   "execution_count": 5,
   "metadata": {},
   "outputs": [
    {
     "data": {
      "image/png": "[encoded data removed]",
      "text/plain": [
       "<Figure size 640x480 with 1 Axes>"
      ]
     },
     "metadata": {},
     "output_type": "display_data"
    }
   ],
   "source": [
    "#Deneyim Yılı ve Maaş Arasındaki İlişkiye bakalım.\n",
    "plt.scatter(df[\"deneyim_yili\"], df[\"maas\"])\n",
    "plt.xlabel(\"Deneyim Yılı\")\n",
    "plt.ylabel(\"Maaş\")\n",
    "plt.title(\"Deneyim Yılı ve Maaş Arasındaki İlişki\")\n",
    "plt.show()"
   ]
  },
  {
   "cell_type": "code",
   "execution_count": 6,
   "metadata": {},
   "outputs": [],
   "source": [
    "X = df[[\"deneyim_yili\"]]\n",
    "y = df[[\"maas\"]] #bağımlı değişkenimiz\n",
    "\n",
    "\"\"\"Bir köşeli parantez içindeki maas ifadesi, df DataFrame'inin bir sütunu olarak seçilir ve ikinci köşeli parantez içindeki ekstra köşeli parantezler,\n",
    " bu sütunu bir DataFrame olarak saklamak için kullanılır. Yani, sonuç olarak, y değişkeni, maas sütununu içeren bir DataFrame'dir.\"\"\"\n",
    "\n",
    "###### Model ######\n",
    "\n",
    "# Bias=275,\n",
    "# Weight=90 (y’=b+wx)\n",
    "\n",
    "#tek değişkenimiz olduğu için\n",
    "# y_hat = b + w*x        (sabit + ağırlık * ilgili bağımsız değişken)\n",
    "# yani bizim x imiz Deneyim yılı\n",
    "\n",
    "\n",
    "reg_model = LinearRegression().fit(X, y)\n",
    "\n"
   ]
  },
  {
   "cell_type": "code",
   "execution_count": 7,
   "metadata": {},
   "outputs": [
    {
     "data": {
      "text/plain": [
       "275.0"
      ]
     },
     "execution_count": 7,
     "metadata": {},
     "output_type": "execute_result"
    }
   ],
   "source": [
    "# sabit (b - bias)\n",
    "reg_model.intercept_[0] = 275\n",
    "reg_model.intercept_[0]"
   ]
  },
  {
   "cell_type": "code",
   "execution_count": 8,
   "metadata": {},
   "outputs": [
    {
     "data": {
      "text/plain": [
       "90.0"
      ]
     },
     "execution_count": 8,
     "metadata": {},
     "output_type": "execute_result"
    }
   ],
   "source": [
    "# maas'ın katsayısı (ağırlığı) (w1)- bağımsız değişken\n",
    "reg_model.coef_[0][0] = 90\n",
    "reg_model.coef_[0][0]\n"
   ]
  },
  {
   "attachments": {},
   "cell_type": "markdown",
   "metadata": {},
   "source": [
    "### 2-Oluşturduğunuz model denklemine göre tablodaki tüm deneyim yılları için maaş tahmini yapınız.\n",
    "---"
   ]
  },
  {
   "cell_type": "code",
   "execution_count": 9,
   "metadata": {},
   "outputs": [
    {
     "data": {
      "text/html": [
       "<div>\n",
       "<style scoped>\n",
       "    .dataframe tbody tr th:only-of-type {\n",
       "        vertical-align: middle;\n",
       "    }\n",
       "\n",
       "    .dataframe tbody tr th {\n",
       "        vertical-align: top;\n",
       "    }\n",
       "\n",
       "    .dataframe thead th {\n",
       "        text-align: right;\n",
       "    }\n",
       "</style>\n",
       "<table border=\"1\" class=\"dataframe\">\n",
       "  <thead>\n",
       "    <tr style=\"text-align: right;\">\n",
       "      <th></th>\n",
       "      <th>deneyim_yili</th>\n",
       "      <th>maas</th>\n",
       "      <th>maas_tahmin</th>\n",
       "    </tr>\n",
       "  </thead>\n",
       "  <tbody>\n",
       "    <tr>\n",
       "      <th>0</th>\n",
       "      <td>5</td>\n",
       "      <td>600</td>\n",
       "      <td>725.00</td>\n",
       "    </tr>\n",
       "    <tr>\n",
       "      <th>1</th>\n",
       "      <td>7</td>\n",
       "      <td>900</td>\n",
       "      <td>905.00</td>\n",
       "    </tr>\n",
       "    <tr>\n",
       "      <th>2</th>\n",
       "      <td>3</td>\n",
       "      <td>550</td>\n",
       "      <td>545.00</td>\n",
       "    </tr>\n",
       "    <tr>\n",
       "      <th>3</th>\n",
       "      <td>3</td>\n",
       "      <td>500</td>\n",
       "      <td>545.00</td>\n",
       "    </tr>\n",
       "    <tr>\n",
       "      <th>4</th>\n",
       "      <td>2</td>\n",
       "      <td>400</td>\n",
       "      <td>455.00</td>\n",
       "    </tr>\n",
       "    <tr>\n",
       "      <th>5</th>\n",
       "      <td>7</td>\n",
       "      <td>950</td>\n",
       "      <td>905.00</td>\n",
       "    </tr>\n",
       "    <tr>\n",
       "      <th>6</th>\n",
       "      <td>3</td>\n",
       "      <td>540</td>\n",
       "      <td>545.00</td>\n",
       "    </tr>\n",
       "    <tr>\n",
       "      <th>7</th>\n",
       "      <td>10</td>\n",
       "      <td>1200</td>\n",
       "      <td>1175.00</td>\n",
       "    </tr>\n",
       "    <tr>\n",
       "      <th>8</th>\n",
       "      <td>6</td>\n",
       "      <td>900</td>\n",
       "      <td>815.00</td>\n",
       "    </tr>\n",
       "    <tr>\n",
       "      <th>9</th>\n",
       "      <td>4</td>\n",
       "      <td>550</td>\n",
       "      <td>635.00</td>\n",
       "    </tr>\n",
       "    <tr>\n",
       "      <th>10</th>\n",
       "      <td>8</td>\n",
       "      <td>1100</td>\n",
       "      <td>995.00</td>\n",
       "    </tr>\n",
       "    <tr>\n",
       "      <th>11</th>\n",
       "      <td>1</td>\n",
       "      <td>460</td>\n",
       "      <td>365.00</td>\n",
       "    </tr>\n",
       "    <tr>\n",
       "      <th>12</th>\n",
       "      <td>1</td>\n",
       "      <td>400</td>\n",
       "      <td>365.00</td>\n",
       "    </tr>\n",
       "    <tr>\n",
       "      <th>13</th>\n",
       "      <td>9</td>\n",
       "      <td>1000</td>\n",
       "      <td>1085.00</td>\n",
       "    </tr>\n",
       "    <tr>\n",
       "      <th>14</th>\n",
       "      <td>1</td>\n",
       "      <td>380</td>\n",
       "      <td>365.00</td>\n",
       "    </tr>\n",
       "  </tbody>\n",
       "</table>\n",
       "</div>"
      ],
      "text/plain": [
       "    deneyim_yili  maas  maas_tahmin\n",
       "0              5   600       725.00\n",
       "1              7   900       905.00\n",
       "2              3   550       545.00\n",
       "3              3   500       545.00\n",
       "4              2   400       455.00\n",
       "5              7   950       905.00\n",
       "6              3   540       545.00\n",
       "7             10  1200      1175.00\n",
       "8              6   900       815.00\n",
       "9              4   550       635.00\n",
       "10             8  1100       995.00\n",
       "11             1   460       365.00\n",
       "12             1   400       365.00\n",
       "13             9  1000      1085.00\n",
       "14             1   380       365.00"
      ]
     },
     "execution_count": 9,
     "metadata": {},
     "output_type": "execute_result"
    }
   ],
   "source": [
    "df[\"maas_tahmin\"] = reg_model.predict(df[[\"deneyim_yili\"]])\n",
    "df\n",
    "\n",
    "#(sabit + bağımsız değişken * ilgili bağımsız değişken)\n",
    "\n",
    "#reg_model.intercept_[0] + reg_model.coef_[0][0] * deneyim_yili\n",
    "\n",
    "# 275 + 90 * 5 = 725 kontrol edelim."
   ]
  },
  {
   "cell_type": "code",
   "execution_count": 10,
   "metadata": {},
   "outputs": [
    {
     "data": {
      "text/html": [
       "<div>\n",
       "<style scoped>\n",
       "    .dataframe tbody tr th:only-of-type {\n",
       "        vertical-align: middle;\n",
       "    }\n",
       "\n",
       "    .dataframe tbody tr th {\n",
       "        vertical-align: top;\n",
       "    }\n",
       "\n",
       "    .dataframe thead th {\n",
       "        text-align: right;\n",
       "    }\n",
       "</style>\n",
       "<table border=\"1\" class=\"dataframe\">\n",
       "  <thead>\n",
       "    <tr style=\"text-align: right;\">\n",
       "      <th></th>\n",
       "      <th>count</th>\n",
       "      <th>mean</th>\n",
       "      <th>std</th>\n",
       "      <th>min</th>\n",
       "      <th>25%</th>\n",
       "      <th>50%</th>\n",
       "      <th>75%</th>\n",
       "      <th>max</th>\n",
       "    </tr>\n",
       "  </thead>\n",
       "  <tbody>\n",
       "    <tr>\n",
       "      <th>deneyim_yili</th>\n",
       "      <td>15.00</td>\n",
       "      <td>4.67</td>\n",
       "      <td>3.02</td>\n",
       "      <td>1.00</td>\n",
       "      <td>2.50</td>\n",
       "      <td>4.00</td>\n",
       "      <td>7.00</td>\n",
       "      <td>10.00</td>\n",
       "    </tr>\n",
       "    <tr>\n",
       "      <th>maas</th>\n",
       "      <td>15.00</td>\n",
       "      <td>695.33</td>\n",
       "      <td>280.66</td>\n",
       "      <td>380.00</td>\n",
       "      <td>480.00</td>\n",
       "      <td>550.00</td>\n",
       "      <td>925.00</td>\n",
       "      <td>1200.00</td>\n",
       "    </tr>\n",
       "    <tr>\n",
       "      <th>maas_tahmin</th>\n",
       "      <td>15.00</td>\n",
       "      <td>695.00</td>\n",
       "      <td>271.42</td>\n",
       "      <td>365.00</td>\n",
       "      <td>500.00</td>\n",
       "      <td>635.00</td>\n",
       "      <td>905.00</td>\n",
       "      <td>1175.00</td>\n",
       "    </tr>\n",
       "  </tbody>\n",
       "</table>\n",
       "</div>"
      ],
      "text/plain": [
       "              count   mean    std    min    25%    50%    75%     max\n",
       "deneyim_yili  15.00   4.67   3.02   1.00   2.50   4.00   7.00   10.00\n",
       "maas          15.00 695.33 280.66 380.00 480.00 550.00 925.00 1200.00\n",
       "maas_tahmin   15.00 695.00 271.42 365.00 500.00 635.00 905.00 1175.00"
      ]
     },
     "execution_count": 10,
     "metadata": {},
     "output_type": "execute_result"
    }
   ],
   "source": [
    "df.describe().T\n",
    "#Max değerleri inceleyelim, max maaş ve max tahmini maaşı karşılaştırdığımızda birbirine yakın olduğunu gözlemliyoruz."
   ]
  },
  {
   "cell_type": "code",
   "execution_count": 20,
   "metadata": {},
   "outputs": [
    {
     "data": {
      "image/png": "[encoded data removed]",
      "text/plain": [
       "<Figure size 640x480 with 1 Axes>"
      ]
     },
     "metadata": {},
     "output_type": "display_data"
    }
   ],
   "source": [
    "# Modelin Görselleştirilmesi\n",
    "g = sns.regplot(x=X, y=y, scatter_kws={'color': 'b', 's': 9},\n",
    "                ci=False, color=\"r\")\n",
    "\n",
    "g.set_title(f\"Model Denklemi: Deneyim Yılına Göre Maaş Tahmini = {round(reg_model.intercept_[0])} + deneyim_yili * {round(reg_model.coef_[0][0])}\")\n",
    "g.set_ylabel(\"Maaş\")\n",
    "g.set_xlabel(\"Deneyim Yılı\")\n",
    "plt.xlim(df[\"deneyim_yili\"].max(),df[\"deneyim_yili\"].min())\n",
    "plt.ylim(df[\"maas\"].min())\n",
    "plt.show()\n",
    "\n",
    "\n",
    "#x bağımsız değişken y bağımlı değişkenimiz.\n",
    "# scatter_kws grafikte kullanılacak rekler. \n",
    "# g.set_title Grafik başlığımız.\n",
    "# g.set_ylabel(\"Maaş\") y eksenindeki title. \n",
    "# g.set_xlabel(\"Deneyim Yılı\") x eksenindeki title\n",
    "#plt.xlim(df[\"deneyim_yili\"].max(),df[\"deneyim_yili\"].min()) x eksenini deneyim yilindaki max ve min değerler aralığında göster. \n",
    "# plt.ylim(df[\"maas\"].min()) y aralığını minimum maaştan başlayark göster.\n",
    "#ci=güven aralığı ekleme\n",
    "\n"
   ]
  },
  {
   "attachments": {},
   "cell_type": "markdown",
   "metadata": {},
   "source": [
    "### 3-Modelin başarısını ölçmek için MSE, RMSE, MAE skorlarını hesaplayınız\n",
    "---\n"
   ]
  },
  {
   "attachments": {},
   "cell_type": "markdown",
   "metadata": {},
   "source": [
    "\n",
    "- **MSE (Mean Squared Error):** Gerçek ve tahmin edilen değerler arasındaki farkların karesinin ortalamasını hesaplar.\n",
    "Küçük bir MSE değeri, modelin gerçek değerlerle tahmin edilen değerler arasındaki farkı düşük olduğu anlamına gelir. Bu durumda modelin tahminleri gerçek değerlere daha yakındır ve modelin performansı iyi olarak kabul edilebilir."
   ]
  },
  {
   "cell_type": "code",
   "execution_count": 12,
   "metadata": {},
   "outputs": [
    {
     "data": {
      "text/plain": [
       "4438.333333333333"
      ]
     },
     "execution_count": 12,
     "metadata": {},
     "output_type": "execute_result"
    }
   ],
   "source": [
    "# Ortalama hatamızı bulalım.\n",
    "# MSE\n",
    "\n",
    "# Bağımlı değişken\n",
    "\n",
    "y_true = df['maas']\n",
    "\n",
    "# Tahmin edilen değerler\n",
    "y_pred = df['maas_tahmin']\n",
    "\n",
    "mse = mean_squared_error(y_true, y_pred)\n",
    "mse"
   ]
  },
  {
   "cell_type": "code",
   "execution_count": 13,
   "metadata": {},
   "outputs": [
    {
     "data": {
      "text/plain": [
       "695.3333333333334"
      ]
     },
     "execution_count": 13,
     "metadata": {},
     "output_type": "execute_result"
    }
   ],
   "source": [
    "#bağımlı değişkenimizin ortalamasını alalım.\n",
    "y_true.mean()"
   ]
  },
  {
   "cell_type": "code",
   "execution_count": 14,
   "metadata": {},
   "outputs": [
    {
     "data": {
      "text/plain": [
       "280.65908823610863"
      ]
     },
     "execution_count": 14,
     "metadata": {},
     "output_type": "execute_result"
    }
   ],
   "source": [
    "#bağımlı değişkenimizin standart sapmasına bakalım.\n",
    "y_true.std()\n",
    "# yani 695.33 - 280.66 = 414,67 ve 695.33 + 280.66 = 975.99 arasında değerler değişiyor gibi gözüküyor. \n",
    "\n",
    "# Bu değer yüksek bir MSE değeridir. Modelin performansının düşük olduğunu gösterir.\n",
    "#  Bu nedenle, modele ait tahminler gerçek değerlerle uyumsuzdur ve modelin daha iyi bir şekilde eğitilmesi gerekmektedir."
   ]
  },
  {
   "attachments": {},
   "cell_type": "markdown",
   "metadata": {},
   "source": [
    "- **RMSE (Root Mean Squared Error):** bir makine öğrenmesi modelinin tahminlerinin gerçek değerlerden ne kadar sapma gösterdiğini ölçen bir hata metriğidir.RMSE, MSE (Mean Squared Error) değerinin karekökü alınarak hesaplanır. "
   ]
  },
  {
   "cell_type": "code",
   "execution_count": 15,
   "metadata": {},
   "outputs": [
    {
     "data": {
      "text/plain": [
       "66.62081756728398"
      ]
     },
     "execution_count": 15,
     "metadata": {},
     "output_type": "execute_result"
    }
   ],
   "source": [
    "# RMSE\n",
    "np.sqrt(mean_squared_error(y_true, y_pred))"
   ]
  },
  {
   "attachments": {},
   "cell_type": "markdown",
   "metadata": {},
   "source": [
    "- **MAE (Mean Absolute Error):** gerçek değerler ile tahmin edilen değerler arasındaki farkların mutlak değerlerinin ortalamasını alarak hesaplanır. Bu farkların mutlak değerlerinin alınması, farkların pozitif veya negatif olmasından bağımsız olarak, sapmaların büyüklüğünün aynı şekilde hesaplanmasını sağlar."
   ]
  },
  {
   "cell_type": "code",
   "execution_count": 16,
   "metadata": {},
   "outputs": [
    {
     "data": {
      "text/plain": [
       "54.333333333333336"
      ]
     },
     "execution_count": 16,
     "metadata": {},
     "output_type": "execute_result"
    }
   ],
   "source": [
    "# MAE\n",
    "mean_absolute_error(y_true, y_pred)\n"
   ]
  },
  {
   "attachments": {},
   "cell_type": "markdown",
   "metadata": {},
   "source": [
    "### Yorum : \n",
    "* MSE ve RMSE değerleri oldukça yüksek. Bu, modelin maas tahminleri konusunda oldukça yanıltıcı olduğunu ve tahminlerin gerçek değerlerle oldukça farklı olduğunu gösterir. Daha düşük MSE, RMSE ve MAE değerleri için modelin daha iyi hale getirilmesi gerekebilir."
   ]
  },
  {
   "attachments": {},
   "cell_type": "markdown",
   "metadata": {},
   "source": [
    "--Ek Bilgi --\n",
    "- **R-Kare (R-Squared):** bir makine öğrenmesi modelinin ne kadar iyi uyduğunu ölçen bir performans metriğidir. R-Kare, modelin açıkladığı varyansın veri setindeki toplam varyansa oranını gösterir. Bu, modelin bağımsız değişkenlerin varyasyonlarının ne kadarını açıklayabildiğini gösterir.\n",
    "R-Kare değeri, 0 ile 1 arasında bir değer alır. R-Kare değeri 1'e yakınsa, model bağımsız değişkenlerin neredeyse tamamını açıklıyor demektir. R-Kare değeri 0'a yakınsa, modelin bağımsız değişkenleri açıklama oranı çok düşük demektir."
   ]
  },
  {
   "cell_type": "code",
   "execution_count": 17,
   "metadata": {},
   "outputs": [],
   "source": [
    "# R-KARE\n",
    "# reg_model.score(X, y) \n",
    "# bu modelde  deneyim değişkenin, maaş değişkendeki değişikliği açıklama yüzdesi.\n",
    "#Bu modelde bağımsız değişkenler, bağımlı değişkenin %93'nü açıklayabilmektedir.\n",
    "# R-kare değeri 0.93 olduğu için, veri setindeki değişkenler arasında oldukça yüksek bir ilişki avrdır."
   ]
  },
  {
   "cell_type": "code",
   "execution_count": 19,
   "metadata": {},
   "outputs": [
    {
     "data": {
      "text/html": [
       "<div>\n",
       "<style scoped>\n",
       "    .dataframe tbody tr th:only-of-type {\n",
       "        vertical-align: middle;\n",
       "    }\n",
       "\n",
       "    .dataframe tbody tr th {\n",
       "        vertical-align: top;\n",
       "    }\n",
       "\n",
       "    .dataframe thead th {\n",
       "        text-align: right;\n",
       "    }\n",
       "</style>\n",
       "<table border=\"1\" class=\"dataframe\">\n",
       "  <thead>\n",
       "    <tr style=\"text-align: right;\">\n",
       "      <th></th>\n",
       "      <th>deneyim_yili</th>\n",
       "      <th>maas</th>\n",
       "      <th>maas_tahmin</th>\n",
       "      <th>Hata</th>\n",
       "      <th>Hata_Kareleri</th>\n",
       "      <th>Mutlak_Hata</th>\n",
       "    </tr>\n",
       "  </thead>\n",
       "  <tbody>\n",
       "    <tr>\n",
       "      <th>0</th>\n",
       "      <td>5</td>\n",
       "      <td>600</td>\n",
       "      <td>725.00</td>\n",
       "      <td>-125.00</td>\n",
       "      <td>15625.00</td>\n",
       "      <td>125.00</td>\n",
       "    </tr>\n",
       "    <tr>\n",
       "      <th>1</th>\n",
       "      <td>7</td>\n",
       "      <td>900</td>\n",
       "      <td>905.00</td>\n",
       "      <td>-5.00</td>\n",
       "      <td>25.00</td>\n",
       "      <td>5.00</td>\n",
       "    </tr>\n",
       "    <tr>\n",
       "      <th>2</th>\n",
       "      <td>3</td>\n",
       "      <td>550</td>\n",
       "      <td>545.00</td>\n",
       "      <td>5.00</td>\n",
       "      <td>25.00</td>\n",
       "      <td>5.00</td>\n",
       "    </tr>\n",
       "    <tr>\n",
       "      <th>3</th>\n",
       "      <td>3</td>\n",
       "      <td>500</td>\n",
       "      <td>545.00</td>\n",
       "      <td>-45.00</td>\n",
       "      <td>2025.00</td>\n",
       "      <td>45.00</td>\n",
       "    </tr>\n",
       "    <tr>\n",
       "      <th>4</th>\n",
       "      <td>2</td>\n",
       "      <td>400</td>\n",
       "      <td>455.00</td>\n",
       "      <td>-55.00</td>\n",
       "      <td>3025.00</td>\n",
       "      <td>55.00</td>\n",
       "    </tr>\n",
       "    <tr>\n",
       "      <th>5</th>\n",
       "      <td>7</td>\n",
       "      <td>950</td>\n",
       "      <td>905.00</td>\n",
       "      <td>45.00</td>\n",
       "      <td>2025.00</td>\n",
       "      <td>45.00</td>\n",
       "    </tr>\n",
       "    <tr>\n",
       "      <th>6</th>\n",
       "      <td>3</td>\n",
       "      <td>540</td>\n",
       "      <td>545.00</td>\n",
       "      <td>-5.00</td>\n",
       "      <td>25.00</td>\n",
       "      <td>5.00</td>\n",
       "    </tr>\n",
       "    <tr>\n",
       "      <th>7</th>\n",
       "      <td>10</td>\n",
       "      <td>1200</td>\n",
       "      <td>1175.00</td>\n",
       "      <td>25.00</td>\n",
       "      <td>625.00</td>\n",
       "      <td>25.00</td>\n",
       "    </tr>\n",
       "    <tr>\n",
       "      <th>8</th>\n",
       "      <td>6</td>\n",
       "      <td>900</td>\n",
       "      <td>815.00</td>\n",
       "      <td>85.00</td>\n",
       "      <td>7225.00</td>\n",
       "      <td>85.00</td>\n",
       "    </tr>\n",
       "    <tr>\n",
       "      <th>9</th>\n",
       "      <td>4</td>\n",
       "      <td>550</td>\n",
       "      <td>635.00</td>\n",
       "      <td>-85.00</td>\n",
       "      <td>7225.00</td>\n",
       "      <td>85.00</td>\n",
       "    </tr>\n",
       "    <tr>\n",
       "      <th>10</th>\n",
       "      <td>8</td>\n",
       "      <td>1100</td>\n",
       "      <td>995.00</td>\n",
       "      <td>105.00</td>\n",
       "      <td>11025.00</td>\n",
       "      <td>105.00</td>\n",
       "    </tr>\n",
       "    <tr>\n",
       "      <th>11</th>\n",
       "      <td>1</td>\n",
       "      <td>460</td>\n",
       "      <td>365.00</td>\n",
       "      <td>95.00</td>\n",
       "      <td>9025.00</td>\n",
       "      <td>95.00</td>\n",
       "    </tr>\n",
       "    <tr>\n",
       "      <th>12</th>\n",
       "      <td>1</td>\n",
       "      <td>400</td>\n",
       "      <td>365.00</td>\n",
       "      <td>35.00</td>\n",
       "      <td>1225.00</td>\n",
       "      <td>35.00</td>\n",
       "    </tr>\n",
       "    <tr>\n",
       "      <th>13</th>\n",
       "      <td>9</td>\n",
       "      <td>1000</td>\n",
       "      <td>1085.00</td>\n",
       "      <td>-85.00</td>\n",
       "      <td>7225.00</td>\n",
       "      <td>85.00</td>\n",
       "    </tr>\n",
       "    <tr>\n",
       "      <th>14</th>\n",
       "      <td>1</td>\n",
       "      <td>380</td>\n",
       "      <td>365.00</td>\n",
       "      <td>15.00</td>\n",
       "      <td>225.00</td>\n",
       "      <td>15.00</td>\n",
       "    </tr>\n",
       "  </tbody>\n",
       "</table>\n",
       "</div>"
      ],
      "text/plain": [
       "    deneyim_yili  maas  maas_tahmin    Hata  Hata_Kareleri  Mutlak_Hata\n",
       "0              5   600       725.00 -125.00       15625.00       125.00\n",
       "1              7   900       905.00   -5.00          25.00         5.00\n",
       "2              3   550       545.00    5.00          25.00         5.00\n",
       "3              3   500       545.00  -45.00        2025.00        45.00\n",
       "4              2   400       455.00  -55.00        3025.00        55.00\n",
       "5              7   950       905.00   45.00        2025.00        45.00\n",
       "6              3   540       545.00   -5.00          25.00         5.00\n",
       "7             10  1200      1175.00   25.00         625.00        25.00\n",
       "8              6   900       815.00   85.00        7225.00        85.00\n",
       "9              4   550       635.00  -85.00        7225.00        85.00\n",
       "10             8  1100       995.00  105.00       11025.00       105.00\n",
       "11             1   460       365.00   95.00        9025.00        95.00\n",
       "12             1   400       365.00   35.00        1225.00        35.00\n",
       "13             9  1000      1085.00  -85.00        7225.00        85.00\n",
       "14             1   380       365.00   15.00         225.00        15.00"
      ]
     },
     "execution_count": 19,
     "metadata": {},
     "output_type": "execute_result"
    }
   ],
   "source": [
    "df[\"Hata\"] = df[\"maas\"] - df[\"maas_tahmin\"]\n",
    "df[\"Hata_Kareleri\"] = df[\"Hata\"]**2\n",
    "df[\"Mutlak_Hata\"] = [abs(i) for i in df[\"Hata\"]]\n",
    "df\n",
    "#abs mutlak değer alır."
   ]
  },
  {
   "attachments": {},
   "cell_type": "markdown",
   "metadata": {},
   "source": [
    "### Yorum:\n",
    "\n",
    "- Tahmini maaşlar için veri setimizi incelediğimizde modelimiz bazı durumlarda iyi performas gösterirken ( örn:1. index ) diğer çoğu durumda tahmin edilen maaş, gerçek maaşa oldukça uzak. (örn:0.index ). "
   ]
  }
 ],
 "metadata": {
  "kernelspec": {
   "display_name": "Python 3",
   "language": "python",
   "name": "python3"
  },
  "language_info": {
   "codemirror_mode": {
    "name": "ipython",
    "version": 3
   },
   "file_extension": ".py",
   "mimetype": "text/x-python",
   "name": "python",
   "nbconvert_exporter": "python",
   "pygments_lexer": "ipython3",
   "version": "3.11.1"
  },
  "orig_nbformat": 4
 },
 "nbformat": 4,
 "nbformat_minor": 2
}
